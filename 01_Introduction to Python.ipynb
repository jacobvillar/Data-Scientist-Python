{
 "cells": [
  {
   "cell_type": "code",
   "execution_count": 6,
   "id": "90fa54aa",
   "metadata": {},
   "outputs": [],
   "source": [
    "import numpy as np #import numpy and rename as np "
   ]
  },
  {
   "cell_type": "code",
   "execution_count": 10,
   "id": "fd3670fe",
   "metadata": {},
   "outputs": [
    {
     "data": {
      "text/plain": [
       "array([1, 2, 3])"
      ]
     },
     "execution_count": 10,
     "metadata": {},
     "output_type": "execute_result"
    }
   ],
   "source": [
    "np.array([1,2,3])"
   ]
  },
  {
   "cell_type": "markdown",
   "id": "995edf74",
   "metadata": {},
   "source": [
    "### Selective import"
   ]
  },
  {
   "cell_type": "code",
   "execution_count": 13,
   "id": "6e1bcf21",
   "metadata": {},
   "outputs": [],
   "source": [
    "from math import pi #import a specific part of a package which is pi \n",
    "from math import radians #import radians in math package"
   ]
  },
  {
   "cell_type": "markdown",
   "id": "0d0a0aba",
   "metadata": {},
   "source": [
    "### NumPy"
   ]
  },
  {
   "cell_type": "markdown",
   "id": "dc0fc76c",
   "metadata": {},
   "source": [
    "Provides a alternative to the regular python\n",
    "    1. Calculations over entire arrays; \n",
    "    2. Easy and fast;\n",
    "Code: \"import numpy as np\" "
   ]
  },
  {
   "cell_type": "code",
   "execution_count": 19,
   "id": "5522a4f8",
   "metadata": {},
   "outputs": [],
   "source": [
    "height = [1.73, 1.68, 1.71, 1.89, 1.79]\n",
    "weight = [65.4, 59.2, 63.6, 88.4, 68.7]"
   ]
  },
  {
   "cell_type": "code",
   "execution_count": 22,
   "id": "880cd7b3",
   "metadata": {},
   "outputs": [
    {
     "data": {
      "text/plain": [
       "array([1.73, 1.68, 1.71, 1.89, 1.79])"
      ]
     },
     "execution_count": 22,
     "metadata": {},
     "output_type": "execute_result"
    }
   ],
   "source": [
    "import numpy as np\n",
    "np_height = np.array(height)\n",
    "np_height"
   ]
  },
  {
   "cell_type": "code",
   "execution_count": 25,
   "id": "0b813648",
   "metadata": {},
   "outputs": [
    {
     "data": {
      "text/plain": [
       "array([65.4, 59.2, 63.6, 88.4, 68.7])"
      ]
     },
     "execution_count": 25,
     "metadata": {},
     "output_type": "execute_result"
    }
   ],
   "source": [
    "np_weight = np.array(weight)\n",
    "np_weight"
   ]
  },
  {
   "cell_type": "code",
   "execution_count": 28,
   "id": "ac857038",
   "metadata": {},
   "outputs": [
    {
     "data": {
      "text/plain": [
       "array([21.85171573, 20.97505669, 21.75028214, 24.7473475 , 21.44127836])"
      ]
     },
     "execution_count": 28,
     "metadata": {},
     "output_type": "execute_result"
    }
   ],
   "source": [
    "bmi = np_weight / np_height **2\n",
    "bmi"
   ]
  },
  {
   "cell_type": "markdown",
   "id": "36c5ced8",
   "metadata": {},
   "source": [
    "NumPy arrays: contain only one type; Different from Python arrays "
   ]
  },
  {
   "cell_type": "code",
   "execution_count": 32,
   "id": "3d6db2e3",
   "metadata": {},
   "outputs": [],
   "source": [
    "python_list = [1,2,3]\n",
    "numpy_array = np.array([1,2,3])"
   ]
  },
  {
   "cell_type": "code",
   "execution_count": 36,
   "id": "65ed023d",
   "metadata": {},
   "outputs": [
    {
     "data": {
      "text/plain": [
       "[1, 2, 3, 1, 2, 3]"
      ]
     },
     "execution_count": 36,
     "metadata": {},
     "output_type": "execute_result"
    }
   ],
   "source": [
    "python_list + python_list #Python list -- appends"
   ]
  },
  {
   "cell_type": "code",
   "execution_count": 37,
   "id": "0e610511",
   "metadata": {},
   "outputs": [
    {
     "data": {
      "text/plain": [
       "array([2, 4, 6])"
      ]
     },
     "execution_count": 37,
     "metadata": {},
     "output_type": "execute_result"
    }
   ],
   "source": [
    "numpy_array + numpy_array #Numpy - adds "
   ]
  },
  {
   "cell_type": "markdown",
   "id": "bfea5412",
   "metadata": {},
   "source": [
    "#### NumPy Subsetting"
   ]
  },
  {
   "cell_type": "code",
   "execution_count": 41,
   "id": "037685d2",
   "metadata": {},
   "outputs": [
    {
     "data": {
      "text/plain": [
       "array([False, False, False,  True, False])"
      ]
     },
     "execution_count": 41,
     "metadata": {},
     "output_type": "execute_result"
    }
   ],
   "source": [
    "bmi > 23"
   ]
  },
  {
   "cell_type": "code",
   "execution_count": 43,
   "id": "50bf00d5",
   "metadata": {},
   "outputs": [
    {
     "data": {
      "text/plain": [
       "array([24.7473475])"
      ]
     },
     "execution_count": 43,
     "metadata": {},
     "output_type": "execute_result"
    }
   ],
   "source": [
    "bmi[bmi>23] #only values that are TRUE are selected"
   ]
  }
 ],
 "metadata": {
  "kernelspec": {
   "display_name": "Python 3 (ipykernel)",
   "language": "python",
   "name": "python3"
  },
  "language_info": {
   "codemirror_mode": {
    "name": "ipython",
    "version": 3
   },
   "file_extension": ".py",
   "mimetype": "text/x-python",
   "name": "python",
   "nbconvert_exporter": "python",
   "pygments_lexer": "ipython3",
   "version": "3.9.12"
  }
 },
 "nbformat": 4,
 "nbformat_minor": 5
}
