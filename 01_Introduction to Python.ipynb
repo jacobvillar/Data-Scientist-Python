{
 "cells": [
  {
   "cell_type": "markdown",
   "id": "3d887041",
   "metadata": {},
   "source": [
    "# Introduction to Python "
   ]
  },
  {
   "cell_type": "code",
   "execution_count": 10,
   "id": "a4df0fb4",
   "metadata": {},
   "outputs": [
    {
     "data": {
      "text/plain": [
       "array([1, 2, 3])"
      ]
     },
     "execution_count": 10,
     "metadata": {},
     "output_type": "execute_result"
    }
   ],
   "source": [
    "np.array([1,2,3])"
   ]
  },
  {
   "cell_type": "markdown",
   "id": "88a8196f",
   "metadata": {},
   "source": [
    "### Selective import"
   ]
  },
  {
   "cell_type": "code",
   "execution_count": 13,
   "id": "efd951b1",
   "metadata": {},
   "outputs": [],
   "source": [
    "from math import pi #import a specific part of a package which is pi \n",
    "from math import radians #import radians in math package"
   ]
  },
  {
   "cell_type": "markdown",
   "id": "f7650d6d",
   "metadata": {},
   "source": [
    "### NumPy"
   ]
  },
  {
   "cell_type": "markdown",
   "id": "d8522093",
   "metadata": {},
   "source": [
    "Provides a alternative to the regular python\n",
    "    1. Calculations over entire arrays; \n",
    "    2. Easy and fast;\n",
    "Code: \"import numpy as np\" "
   ]
  },
  {
   "cell_type": "code",
   "execution_count": 19,
   "id": "2f510069",
   "metadata": {},
   "outputs": [],
   "source": [
    "height = [1.73, 1.68, 1.71, 1.89, 1.79]\n",
    "weight = [65.4, 59.2, 63.6, 88.4, 68.7]"
   ]
  },
  {
   "cell_type": "code",
   "execution_count": 22,
   "id": "d6ce217c",
   "metadata": {},
   "outputs": [
    {
     "data": {
      "text/plain": [
       "array([1.73, 1.68, 1.71, 1.89, 1.79])"
      ]
     },
     "execution_count": 22,
     "metadata": {},
     "output_type": "execute_result"
    }
   ],
   "source": [
    "import numpy as np\n",
    "np_height = np.array(height)\n",
    "np_height"
   ]
  },
  {
   "cell_type": "code",
   "execution_count": 25,
   "id": "6998dc29",
   "metadata": {},
   "outputs": [
    {
     "data": {
      "text/plain": [
       "array([65.4, 59.2, 63.6, 88.4, 68.7])"
      ]
     },
     "execution_count": 25,
     "metadata": {},
     "output_type": "execute_result"
    }
   ],
   "source": [
    "np_weight = np.array(weight)\n",
    "np_weight"
   ]
  },
  {
   "cell_type": "code",
   "execution_count": 28,
   "id": "a71c0114",
   "metadata": {},
   "outputs": [
    {
     "data": {
      "text/plain": [
       "array([21.85171573, 20.97505669, 21.75028214, 24.7473475 , 21.44127836])"
      ]
     },
     "execution_count": 28,
     "metadata": {},
     "output_type": "execute_result"
    }
   ],
   "source": [
    "bmi = np_weight / np_height **2\n",
    "bmi"
   ]
  },
  {
   "cell_type": "markdown",
   "id": "5ff67427",
   "metadata": {},
   "source": [
    "NumPy arrays: contain only one type; Different from Python arrays "
   ]
  },
  {
   "cell_type": "code",
   "execution_count": 32,
   "id": "5e53665e",
   "metadata": {},
   "outputs": [],
   "source": [
    "python_list = [1,2,3]\n",
    "numpy_array = np.array([1,2,3])"
   ]
  },
  {
   "cell_type": "code",
   "execution_count": 36,
   "id": "d9f72d38",
   "metadata": {},
   "outputs": [
    {
     "data": {
      "text/plain": [
       "[1, 2, 3, 1, 2, 3]"
      ]
     },
     "execution_count": 36,
     "metadata": {},
     "output_type": "execute_result"
    }
   ],
   "source": [
    "python_list + python_list #Python list -- appends"
   ]
  },
  {
   "cell_type": "code",
   "execution_count": 44,
   "id": "a2fad08e",
   "metadata": {},
   "outputs": [
    {
     "data": {
      "text/plain": [
       "array([2, 4, 6])"
      ]
     },
     "execution_count": 44,
     "metadata": {},
     "output_type": "execute_result"
    }
   ],
   "source": [
    "numpy_array + numpy_array #Numpy - perform addition "
   ]
  },
  {
   "cell_type": "markdown",
   "id": "5d251726",
   "metadata": {},
   "source": [
    "#### NumPy Subsetting"
   ]
  },
  {
   "cell_type": "code",
   "execution_count": 41,
   "id": "8aab7ef1",
   "metadata": {},
   "outputs": [
    {
     "data": {
      "text/plain": [
       "array([False, False, False,  True, False])"
      ]
     },
     "execution_count": 41,
     "metadata": {},
     "output_type": "execute_result"
    }
   ],
   "source": [
    "bmi > 23"
   ]
  },
  {
   "cell_type": "code",
   "execution_count": 46,
   "id": "a0fe9e3d",
   "metadata": {},
   "outputs": [
    {
     "data": {
      "text/plain": [
       "array([24.7473475])"
      ]
     },
     "execution_count": 46,
     "metadata": {},
     "output_type": "execute_result"
    }
   ],
   "source": [
    "bmi[bmi>23] #only values that are TRUE are selected"
   ]
  },
  {
   "cell_type": "markdown",
   "id": "5c766a3a-91ac-4d70-af97-7eba0af5f52b",
   "metadata": {},
   "source": [
    "Side Effect: NumPy allows you to perform vector arithmetic"
   ]
  },
  {
   "cell_type": "markdown",
   "id": "953c4510",
   "metadata": {},
   "source": [
    "#### NumPy Subsetting: Lightweight baseball players"
   ]
  },
  {
   "cell_type": "code",
   "execution_count": 6,
   "id": "d7888873",
   "metadata": {},
   "outputs": [
    {
     "data": {
      "text/plain": [
       "9"
      ]
     },
     "execution_count": 6,
     "metadata": {},
     "output_type": "execute_result"
    }
   ],
   "source": [
    "#To subset both regular python lists and numpy arrays, use square brackets \n",
    "x = [4 , 9 , 6, 3, 1]\n",
    "x[1]"
   ]
  },
  {
   "cell_type": "code",
   "execution_count": 8,
   "id": "01286193",
   "metadata": {},
   "outputs": [
    {
     "data": {
      "text/plain": [
       "9"
      ]
     },
     "execution_count": 8,
     "metadata": {},
     "output_type": "execute_result"
    }
   ],
   "source": [
    "import numpy as np\n",
    "y = np.array(x)\n",
    "y[1]"
   ]
  },
  {
   "cell_type": "code",
   "execution_count": 11,
   "id": "85080082",
   "metadata": {},
   "outputs": [
    {
     "data": {
      "text/plain": [
       "array([9, 6])"
      ]
     },
     "execution_count": 11,
     "metadata": {},
     "output_type": "execute_result"
    }
   ],
   "source": [
    "#For numpy, you can use boolean numpy arrays \n",
    "high = y > 5 \n",
    "y[high]"
   ]
  },
  {
   "cell_type": "markdown",
   "id": "d8f46cec",
   "metadata": {},
   "source": [
    "#### NumPy Side Effects"
   ]
  },
  {
   "cell_type": "code",
   "execution_count": 15,
   "id": "accf489e",
   "metadata": {},
   "outputs": [],
   "source": [
    "# 1.Type coercion: numpy arrays cannot contain element of different types\n",
    "# 2. typical arithmetic operators have a different meaning for regular Python \n",
    "    #lists and numpyarrays."
   ]
  },
  {
   "cell_type": "code",
   "execution_count": 18,
   "id": "bc73759a",
   "metadata": {},
   "outputs": [
    {
     "data": {
      "text/plain": [
       "array([4, 5, 2])"
      ]
     },
     "execution_count": 18,
     "metadata": {},
     "output_type": "execute_result"
    }
   ],
   "source": [
    "np.array([True, 1, 2]) + np.array([3, 4, False]) #True = 1, False = 0"
   ]
  },
  {
   "cell_type": "markdown",
   "id": "de781222",
   "metadata": {},
   "source": [
    "#### Subsetting NumPy Arrays"
   ]
  },
  {
   "cell_type": "code",
   "execution_count": 20,
   "id": "6b98372d",
   "metadata": {},
   "outputs": [
    {
     "data": {
      "text/plain": [
       "'b'"
      ]
     },
     "execution_count": 20,
     "metadata": {},
     "output_type": "execute_result"
    }
   ],
   "source": [
    "x = [\"a\", \"b\", \"c\"]\n",
    "x[1]"
   ]
  },
  {
   "cell_type": "code",
   "execution_count": 22,
   "id": "d0f1921d",
   "metadata": {},
   "outputs": [
    {
     "data": {
      "text/plain": [
       "'b'"
      ]
     },
     "execution_count": 22,
     "metadata": {},
     "output_type": "execute_result"
    }
   ],
   "source": [
    "np_x = np.array(x)\n",
    "np_x[1]"
   ]
  },
  {
   "cell_type": "markdown",
   "id": "b82ad256",
   "metadata": {},
   "source": [
    "### 2D NumPy Arrays"
   ]
  },
  {
   "cell_type": "code",
   "execution_count": 25,
   "id": "6a2901c2",
   "metadata": {},
   "outputs": [
    {
     "data": {
      "text/plain": [
       "array([[ 1.73,  1.68,  1.71,  1.89,  1.79],\n",
       "       [65.4 , 59.2 , 63.6 , 88.4 , 68.7 ]])"
      ]
     },
     "execution_count": 25,
     "metadata": {},
     "output_type": "execute_result"
    }
   ],
   "source": [
    "np_2d = np.array ([[1.73, 1.68, 1.71, 1.89, 1.79], [65.4, 59.2, 63.6,88.4,68.7]])\n",
    "np_2d #each sublist corresponds to a row, values within each list is for column"
   ]
  },
  {
   "cell_type": "code",
   "execution_count": 28,
   "id": "ac1048cb",
   "metadata": {},
   "outputs": [
    {
     "name": "stdout",
     "output_type": "stream",
     "text": [
      "<class 'numpy.ndarray'>\n",
      "(4, 2)\n"
     ]
    }
   ],
   "source": [
    "# Create baseball, a list of lists\n",
    "baseball = [[180, 78.4],\n",
    "            [215, 102.7],\n",
    "            [210, 98.5],\n",
    "            [188, 75.2]]\n",
    "\n",
    "# Import numpy\n",
    "import numpy as np\n",
    "\n",
    "# Create a 2D numpy array from baseball: np_baseball\n",
    "np_baseball = np.array(baseball)\n",
    "\n",
    "# Print out the type of np_baseball\n",
    "print(type(np_baseball))\n",
    "\n",
    "# Print out the shape of np_baseball\n",
    "print(np_baseball.shape)"
   ]
  },
  {
   "cell_type": "code",
   "execution_count": 31,
   "id": "cc1095b3",
   "metadata": {},
   "outputs": [
    {
     "name": "stdout",
     "output_type": "stream",
     "text": [
      "(4, 2)\n"
     ]
    }
   ],
   "source": [
    "# baseball is available as a regular list of lists\n",
    "\n",
    "# Import numpy package\n",
    "import numpy as np\n",
    "\n",
    "# Create a 2D numpy array from baseball: np_baseball\n",
    "\n",
    "np_baseball = np.array(baseball)\n",
    "\n",
    "\n",
    "# Print out the shape of np_baseball\n",
    "print(np_baseball.shape)"
   ]
  },
  {
   "cell_type": "markdown",
   "id": "fdad12e5",
   "metadata": {},
   "source": [
    "#### Subsetting 2D NumPy Arrays"
   ]
  },
  {
   "cell_type": "code",
   "execution_count": 33,
   "id": "580e9fb6",
   "metadata": {},
   "outputs": [
    {
     "data": {
      "text/plain": [
       "array(['a', 'c'], dtype='<U1')"
      ]
     },
     "execution_count": 33,
     "metadata": {},
     "output_type": "execute_result"
    }
   ],
   "source": [
    "# regular list of lists\n",
    "x = [[\"a\", \"b\"], [\"c\", \"d\"]]\n",
    "[x[0][0], x[1][0]]\n",
    "\n",
    "# numpy\n",
    "import numpy as np\n",
    "np_x = np.array(x)\n",
    "np_x[:, 0] # : - slicing, 0 - first element "
   ]
  },
  {
   "cell_type": "code",
   "execution_count": 38,
   "id": "e5e530b0",
   "metadata": {},
   "outputs": [
    {
     "name": "stdout",
     "output_type": "stream",
     "text": [
      "[210.   98.5]\n",
      "[180. 215. 210. 188.]\n"
     ]
    }
   ],
   "source": [
    "# baseball is available as a regular list of lists\n",
    "\n",
    "# Import numpy package\n",
    "\n",
    "# Create np_baseball (2 cols)\n",
    "np_baseball = np.array(baseball)\n",
    "\n",
    "# Print out the 50th row of np_baseball\n",
    "print(np_baseball[2,:])\n",
    "\n",
    "# Select the entire second column of np_baseball: np_weight_lb\n",
    "np_weight_lb = np_baseball[:,1]\n",
    "\n",
    "# Print out height of 124th player\n",
    "print(np_baseball[:,0])"
   ]
  },
  {
   "cell_type": "markdown",
   "id": "c6ea6198",
   "metadata": {},
   "source": [
    "#### 2D Arithmetic"
   ]
  },
  {
   "cell_type": "code",
   "execution_count": 42,
   "id": "32194fde",
   "metadata": {},
   "outputs": [
    {
     "data": {
      "text/plain": [
       "array([[ 2,  4],\n",
       "       [ 6,  8],\n",
       "       [10, 12]])"
      ]
     },
     "execution_count": 42,
     "metadata": {},
     "output_type": "execute_result"
    }
   ],
   "source": [
    "import numpy as np\n",
    "np_mat = np.array([[1, 2],\n",
    "                   [3, 4],\n",
    "                   [5, 6]])\n",
    "np_mat * 2\n",
    "np_mat + np.array([10, 10])\n",
    "np_mat + np_mat\n"
   ]
  },
  {
   "cell_type": "code",
   "execution_count": 44,
   "id": "a6f0774f",
   "metadata": {},
   "outputs": [],
   "source": [
    "# baseball is available as a regular list of lists\n",
    "# updated is available as 2D numpy array\n",
    "\n",
    "\n",
    "# Create np_baseball (3 cols)\n",
    "        #np_baseball = np.array(baseball)\n",
    "\n",
    "# Print out addition of np_baseball and updated\n",
    "       #print(np_baseball + updated)\n",
    "\n",
    "# Create numpy array: conversion\n",
    "       #conversion = np.array([0.0254, 0.453592, 1])\n",
    "\n",
    "# Print out product of np_baseball and conversion\n",
    "      #print(np_baseball*conversion)"
   ]
  },
  {
   "cell_type": "markdown",
   "id": "146f2ba6",
   "metadata": {},
   "source": [
    "#### NumPy: Basic Statistics"
   ]
  },
  {
   "cell_type": "code",
   "execution_count": 46,
   "id": "a559832f",
   "metadata": {},
   "outputs": [],
   "source": [
    "#np.mean\n",
    "#np.median\n",
    "#np.corrcoef\n",
    "#np.std "
   ]
  },
  {
   "cell_type": "markdown",
   "id": "20f4d2b9",
   "metadata": {},
   "source": [
    "##### Generate Data"
   ]
  },
  {
   "cell_type": "code",
   "execution_count": 56,
   "id": "77c7db6f",
   "metadata": {},
   "outputs": [],
   "source": [
    "#Arguments: distribution mean, distribution std, number of samples)\n",
    "height = np.round(np.random.normal(1.75, 0.20, 5000),2) \n",
    "weight = np.round(np.random.normal(60.32, 15, 5000),2)\n",
    "np_city = np.column_stack((height, weight))"
   ]
  },
  {
   "cell_type": "code",
   "execution_count": 58,
   "id": "4b7b5d52",
   "metadata": {},
   "outputs": [
    {
     "data": {
      "text/plain": [
       "8.0"
      ]
     },
     "execution_count": 58,
     "metadata": {},
     "output_type": "execute_result"
    }
   ],
   "source": [
    "import numpy as np\n",
    "x = [1, 4, 8, 10, 12]\n",
    "np.mean(x)\n",
    "np.median(x)"
   ]
  },
  {
   "cell_type": "code",
   "execution_count": 62,
   "id": "56e21c5e",
   "metadata": {},
   "outputs": [
    {
     "name": "stdout",
     "output_type": "stream",
     "text": [
      "Average: 198.25\n",
      "Median: 199.0\n",
      "Standard Deviation: 14.635146053251399\n",
      "Correlation: [[1.         0.95865738]\n",
      " [0.95865738 1.        ]]\n"
     ]
    }
   ],
   "source": [
    "# np_baseball is available\n",
    "\n",
    "# Import numpy\n",
    "import numpy as np\n",
    "\n",
    "# Print mean height (first column)\n",
    "avg = np.mean(np_baseball[:,0])\n",
    "print(\"Average: \" + str(avg))\n",
    "\n",
    "# Print median height. Replace 'None'\n",
    "med = np.median(np_baseball[:,0])\n",
    "print(\"Median: \" + str(med))\n",
    "\n",
    "# Print out the standard deviation on height. Replace 'None'\n",
    "stddev = np.std(np_baseball[:,0])\n",
    "print(\"Standard Deviation: \" + str(stddev))\n",
    "\n",
    "# Print out correlation between first and second column. Replace 'None'\n",
    "corr = np.corrcoef(np_baseball[:,0],np_baseball[:,1])\n",
    "print(\"Correlation: \" + str(corr))"
   ]
  },
  {
   "cell_type": "code",
   "execution_count": 65,
   "id": "d2ce1fea",
   "metadata": {},
   "outputs": [
    {
     "data": {
      "text/plain": [
       "'\\n\\n# heights and positions are available as lists\\n\\n# Import numpy\\nimport numpy as np\\n\\n# Convert positions and heights to numpy arrays: np_positions, np_heights\\nnp_positions = np.array(positions)\\nnp_heights = np.array(heights)\\n# Heights of the goalkeepers: gk_heights\\ngk_heights = np_heights[np_positions == \"GK\"]\\n\\n# Heights of the other players: other_heights\\nother_heights = np_heights[np_positions != \"GK\"]\\n\\n# Print out the median height of goalkeepers. Replace \\'None\\'\\nprint(\"Median height of goalkeepers: \" + str(np.median(gk_heights)))\\n\\n# Print out the median height of other players. Replace \\'None\\'\\nprint(\"Median height of other players: \" + str(np.median(other_heights)))\\n\\n'"
      ]
     },
     "execution_count": 65,
     "metadata": {},
     "output_type": "execute_result"
    }
   ],
   "source": [
    "\"\"\"\n",
    "\n",
    "# heights and positions are available as lists\n",
    "\n",
    "# Import numpy\n",
    "import numpy as np\n",
    "\n",
    "# Convert positions and heights to numpy arrays: np_positions, np_heights\n",
    "np_positions = np.array(positions)\n",
    "np_heights = np.array(heights)\n",
    "# Heights of the goalkeepers: gk_heights\n",
    "gk_heights = np_heights[np_positions == \"GK\"]\n",
    "\n",
    "# Heights of the other players: other_heights\n",
    "other_heights = np_heights[np_positions != \"GK\"]\n",
    "\n",
    "# Print out the median height of goalkeepers. Replace 'None'\n",
    "print(\"Median height of goalkeepers: \" + str(np.median(gk_heights)))\n",
    "\n",
    "# Print out the median height of other players. Replace 'None'\n",
    "print(\"Median height of other players: \" + str(np.median(other_heights)))\n",
    "\n",
    "\"\"\""
   ]
  },
  {
   "cell_type": "code",
   "execution_count": null,
   "id": "ce076f2b",
   "metadata": {},
   "outputs": [],
   "source": []
  }
 ],
 "metadata": {
  "kernelspec": {
   "display_name": "Python 3 (ipykernel)",
   "language": "python",
   "name": "python3"
  },
  "language_info": {
   "codemirror_mode": {
    "name": "ipython",
    "version": 3
   },
   "file_extension": ".py",
   "mimetype": "text/x-python",
   "name": "python",
   "nbconvert_exporter": "python",
   "pygments_lexer": "ipython3",
   "version": "3.9.12"
  },
  "toc-autonumbering": false,
  "toc-showcode": false,
  "toc-showmarkdowntxt": false,
  "toc-showtags": false
 },
 "nbformat": 4,
 "nbformat_minor": 5
}
