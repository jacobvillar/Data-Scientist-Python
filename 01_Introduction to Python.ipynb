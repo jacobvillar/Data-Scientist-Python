{
 "cells": [
  {
   "cell_type": "code",
   "execution_count": 6,
   "id": "2e4a296c",
   "metadata": {},
   "outputs": [],
   "source": [
    "import numpy as np #import numpy and rename as np "
   ]
  },
  {
   "cell_type": "code",
   "execution_count": 10,
   "id": "a4df0fb4",
   "metadata": {},
   "outputs": [
    {
     "data": {
      "text/plain": [
       "array([1, 2, 3])"
      ]
     },
     "execution_count": 10,
     "metadata": {},
     "output_type": "execute_result"
    }
   ],
   "source": [
    "np.array([1,2,3])"
   ]
  },
  {
   "cell_type": "markdown",
   "id": "88a8196f",
   "metadata": {},
   "source": [
    "### Selective import"
   ]
  },
  {
   "cell_type": "code",
   "execution_count": 13,
   "id": "efd951b1",
   "metadata": {},
   "outputs": [],
   "source": [
    "from math import pi #import a specific part of a package which is pi \n",
    "from math import radians #import radians in math package"
   ]
  },
  {
   "cell_type": "markdown",
   "id": "f7650d6d",
   "metadata": {},
   "source": [
    "### NumPy"
   ]
  },
  {
   "cell_type": "markdown",
   "id": "d8522093",
   "metadata": {},
   "source": [
    "Provides a alternative to the regular python\n",
    "    1. Calculations over entire arrays; \n",
    "    2. Easy and fast;\n",
    "Code: \"import numpy as np\" "
   ]
  },
  {
   "cell_type": "code",
   "execution_count": 19,
   "id": "2f510069",
   "metadata": {},
   "outputs": [],
   "source": [
    "height = [1.73, 1.68, 1.71, 1.89, 1.79]\n",
    "weight = [65.4, 59.2, 63.6, 88.4, 68.7]"
   ]
  },
  {
   "cell_type": "code",
   "execution_count": 22,
   "id": "d6ce217c",
   "metadata": {},
   "outputs": [
    {
     "data": {
      "text/plain": [
       "array([1.73, 1.68, 1.71, 1.89, 1.79])"
      ]
     },
     "execution_count": 22,
     "metadata": {},
     "output_type": "execute_result"
    }
   ],
   "source": [
    "import numpy as np\n",
    "np_height = np.array(height)\n",
    "np_height"
   ]
  },
  {
   "cell_type": "code",
   "execution_count": 25,
   "id": "6998dc29",
   "metadata": {},
   "outputs": [
    {
     "data": {
      "text/plain": [
       "array([65.4, 59.2, 63.6, 88.4, 68.7])"
      ]
     },
     "execution_count": 25,
     "metadata": {},
     "output_type": "execute_result"
    }
   ],
   "source": [
    "np_weight = np.array(weight)\n",
    "np_weight"
   ]
  },
  {
   "cell_type": "code",
   "execution_count": 28,
   "id": "a71c0114",
   "metadata": {},
   "outputs": [
    {
     "data": {
      "text/plain": [
       "array([21.85171573, 20.97505669, 21.75028214, 24.7473475 , 21.44127836])"
      ]
     },
     "execution_count": 28,
     "metadata": {},
     "output_type": "execute_result"
    }
   ],
   "source": [
    "bmi = np_weight / np_height **2\n",
    "bmi"
   ]
  },
  {
   "cell_type": "markdown",
   "id": "5ff67427",
   "metadata": {},
   "source": [
    "NumPy arrays: contain only one type; Different from Python arrays "
   ]
  },
  {
   "cell_type": "code",
   "execution_count": 32,
   "id": "5e53665e",
   "metadata": {},
   "outputs": [],
   "source": [
    "python_list = [1,2,3]\n",
    "numpy_array = np.array([1,2,3])"
   ]
  },
  {
   "cell_type": "code",
   "execution_count": 36,
   "id": "d9f72d38",
   "metadata": {},
   "outputs": [
    {
     "data": {
      "text/plain": [
       "[1, 2, 3, 1, 2, 3]"
      ]
     },
     "execution_count": 36,
     "metadata": {},
     "output_type": "execute_result"
    }
   ],
   "source": [
    "python_list + python_list #Python list -- appends"
   ]
  },
  {
   "cell_type": "code",
   "execution_count": 44,
   "id": "a2fad08e",
   "metadata": {},
   "outputs": [
    {
     "data": {
      "text/plain": [
       "array([2, 4, 6])"
      ]
     },
     "execution_count": 44,
     "metadata": {},
     "output_type": "execute_result"
    }
   ],
   "source": [
    "numpy_array + numpy_array #Numpy - perform addition "
   ]
  },
  {
   "cell_type": "markdown",
   "id": "5d251726",
   "metadata": {},
   "source": [
    "#### NumPy Subsetting"
   ]
  },
  {
   "cell_type": "code",
   "execution_count": 41,
   "id": "8aab7ef1",
   "metadata": {},
   "outputs": [
    {
     "data": {
      "text/plain": [
       "array([False, False, False,  True, False])"
      ]
     },
     "execution_count": 41,
     "metadata": {},
     "output_type": "execute_result"
    }
   ],
   "source": [
    "bmi > 23"
   ]
  },
  {
   "cell_type": "code",
   "execution_count": 46,
   "id": "a0fe9e3d",
   "metadata": {},
   "outputs": [
    {
     "data": {
      "text/plain": [
       "array([24.7473475])"
      ]
     },
     "execution_count": 46,
     "metadata": {},
     "output_type": "execute_result"
    }
   ],
   "source": [
    "bmi[bmi>23] #only values that are TRUE are selected"
   ]
  },
  {
   "cell_type": "code",
   "execution_count": 47,
   "id": "8cf3d555",
   "metadata": {},
   "outputs": [
    {
     "data": {
      "text/plain": [
       "array([21.85171573, 20.97505669, 21.75028214, 21.44127836])"
      ]
     },
     "execution_count": 47,
     "metadata": {},
     "output_type": "execute_result"
    }
   ],
   "source": [
    "bmi[bmi < 23]"
   ]
  }
 ],
 "metadata": {
  "kernelspec": {
   "display_name": "Python 3 (ipykernel)",
   "language": "python",
   "name": "python3"
  },
  "language_info": {
   "codemirror_mode": {
    "name": "ipython",
    "version": 3
   },
   "file_extension": ".py",
   "mimetype": "text/x-python",
   "name": "python",
   "nbconvert_exporter": "python",
   "pygments_lexer": "ipython3",
   "version": "3.9.12"
  }
 },
 "nbformat": 4,
 "nbformat_minor": 5
}
